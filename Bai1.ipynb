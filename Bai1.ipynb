{
 "cells": [
  {
   "cell_type": "code",
   "execution_count": 13,
   "id": "a8d99528-2881-4fe7-9be1-525e531e778d",
   "metadata": {},
   "outputs": [],
   "source": [
    "#1.\tViết chương trình tạo module infoSV.py trong đó có hai hàm tên, và hàm mssv.\n",
    "#Nhập tên và mssv vào module thông qua hai hàm trên. Có xuất ra màn hình."
   ]
  },
  {
   "cell_type": "code",
   "execution_count": 24,
   "id": "9571873c-2cce-45c3-87cd-aaa40a996336",
   "metadata": {},
   "outputs": [
    {
     "name": "stdout",
     "output_type": "stream",
     "text": [
      "Hay nhap ho va ten cua sinh vien\n"
     ]
    },
    {
     "name": "stdin",
     "output_type": "stream",
     "text": [
      " Nguyen Thanh Truc\n"
     ]
    },
    {
     "name": "stdout",
     "output_type": "stream",
     "text": [
      "------\n",
      "Ten cua sinh vien:\n",
      "Nguyen Thanh Truc\n",
      "------\n",
      "Hay nhap mssv cua sinh vien\n"
     ]
    },
    {
     "name": "stdin",
     "output_type": "stream",
     "text": [
      " 2012020070\n"
     ]
    },
    {
     "name": "stdout",
     "output_type": "stream",
     "text": [
      "------\n",
      "Mssv cua sinh vien:\n",
      "------\n",
      "2012020070\n"
     ]
    }
   ],
   "source": [
    "from package1 import infoSV\n",
    " \n",
    "print('Hay nhap ho va ten cua sinh vien')\n",
    "name = input()\n",
    "\n",
    "print(\"------\")\n",
    "print('Ten cua sinh vien:')\n",
    "infoSV.hamten(name)\n",
    "\n",
    "print(\"------\")\n",
    "\n",
    "print(\"Hay nhap mssv cua sinh vien\")\n",
    "mssv = input()\n",
    "\n",
    "print(\"------\")\n",
    "\n",
    "print('Mssv cua sinh vien:')\n",
    "\n",
    "print(\"------\")\n",
    "\n",
    "infoSV.hammssv(mssv)"
   ]
  },
  {
   "cell_type": "code",
   "execution_count": null,
   "id": "0ccf6ccd-21cb-4ba5-bba8-01ed4f35db1f",
   "metadata": {},
   "outputs": [],
   "source": []
  }
 ],
 "metadata": {
  "kernelspec": {
   "display_name": "Python 3 (ipykernel)",
   "language": "python",
   "name": "python3"
  },
  "language_info": {
   "codemirror_mode": {
    "name": "ipython",
    "version": 3
   },
   "file_extension": ".py",
   "mimetype": "text/x-python",
   "name": "python",
   "nbconvert_exporter": "python",
   "pygments_lexer": "ipython3",
   "version": "3.9.12"
  }
 },
 "nbformat": 4,
 "nbformat_minor": 5
}
